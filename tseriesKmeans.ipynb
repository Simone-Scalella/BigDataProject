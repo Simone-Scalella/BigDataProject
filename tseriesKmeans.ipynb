{
 "cells": [
  {
   "cell_type": "code",
   "execution_count": 7,
   "metadata": {},
   "outputs": [],
   "source": [
    "from tslearn.clustering import TimeSeriesKMeans\n",
    "import pickle"
   ]
  },
  {
   "attachments": {},
   "cell_type": "markdown",
   "metadata": {},
   "source": [
    "# Caricamento delle serie temporali"
   ]
  },
  {
   "cell_type": "code",
   "execution_count": 8,
   "metadata": {},
   "outputs": [],
   "source": [
    "with open('./pickles/allPixelNDVIPoly.pickle', 'rb') as handle:\n",
    "    allPixelNDVIPoly = pickle.load(handle)"
   ]
  },
  {
   "attachments": {},
   "cell_type": "markdown",
   "metadata": {},
   "source": [
    "# Caricamento della resa "
   ]
  },
  {
   "cell_type": "code",
   "execution_count": 9,
   "metadata": {},
   "outputs": [],
   "source": [
    "with open('./pickles/newResa3.pickle', 'rb') as handle:\n",
    "    newResa3 = pickle.load(handle)"
   ]
  },
  {
   "attachments": {},
   "cell_type": "markdown",
   "metadata": {},
   "source": [
    "# Pulizia dei dati"
   ]
  },
  {
   "cell_type": "code",
   "execution_count": 10,
   "metadata": {},
   "outputs": [],
   "source": [
    "allPixelNDVIPoly = allPixelNDVIPoly[(newResa3<=11000) & (newResa3 >= 4000),:]\n",
    "newResa3 = newResa3[(newResa3<=11000) & (newResa3 >= 4000)]"
   ]
  },
  {
   "attachments": {},
   "cell_type": "markdown",
   "metadata": {},
   "source": [
    "# Eseguo l'operazione di clustering"
   ]
  },
  {
   "cell_type": "code",
   "execution_count": 11,
   "metadata": {},
   "outputs": [],
   "source": [
    "# Global\n",
    "num_cluster = 5\n",
    "kmeans_total = []\n",
    "newSeries_total = []\n",
    "rese_total = []\n",
    "\n",
    "# k-means per tutti le combinazioni di intervalli temporali \n",
    "\n",
    "for a in range(0,155,5):\n",
    "    kmeans_total.append([])\n",
    "    newSeries_total.append([])\n",
    "    rese_total.append([])\n",
    "    for b in range(0,155,5):\n",
    "        new_series = allPixelNDVIPoly[:,a:150-b]\n",
    "\n",
    "        km = TimeSeriesKMeans(n_clusters=num_cluster, metric=\"euclidean\", max_iter=25,\n",
    "                      random_state=0)\n",
    "        if(new_series.shape[1] != 0):\n",
    "            y_pred = km.fit_predict(new_series)\n",
    "            kmeans_total[-1].append(y_pred)\n",
    "            newSeries_total[-1].append(new_series)\n",
    "            rese_total[-1].append([])\n",
    "            for p in range(0,num_cluster):\n",
    "                rese_total[-1][-1].append(newResa3[y_pred == p])"
   ]
  },
  {
   "attachments": {},
   "cell_type": "markdown",
   "metadata": {},
   "source": [
    "# Salviamo i risultati"
   ]
  },
  {
   "cell_type": "code",
   "execution_count": 12,
   "metadata": {},
   "outputs": [],
   "source": [
    "with open('./pickles/kmeans_total.pickle', 'wb') as handle:\n",
    "    pickle.dump(kmeans_total, handle, protocol=pickle.HIGHEST_PROTOCOL)\n",
    "with open('./pickles/newSeries_total.pickle', 'wb') as handle:\n",
    "    pickle.dump(newSeries_total, handle, protocol=pickle.HIGHEST_PROTOCOL)\n",
    "with open('./pickles/rese_total.pickle', 'wb') as handle:\n",
    "    pickle.dump(rese_total, handle, protocol=pickle.HIGHEST_PROTOCOL)"
   ]
  }
 ],
 "metadata": {
  "kernelspec": {
   "display_name": "bigdata",
   "language": "python",
   "name": "python3"
  },
  "language_info": {
   "codemirror_mode": {
    "name": "ipython",
    "version": 3
   },
   "file_extension": ".py",
   "mimetype": "text/x-python",
   "name": "python",
   "nbconvert_exporter": "python",
   "pygments_lexer": "ipython3",
   "version": "3.8.16"
  },
  "orig_nbformat": 4
 },
 "nbformat": 4,
 "nbformat_minor": 2
}
