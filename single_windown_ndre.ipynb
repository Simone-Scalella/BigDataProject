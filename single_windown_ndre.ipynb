{
 "cells": [
  {
   "cell_type": "code",
   "execution_count": 1,
   "metadata": {},
   "outputs": [
    {
     "name": "stderr",
     "output_type": "stream",
     "text": [
      "c:\\Users\\Leo\\.conda\\envs\\bigdata\\lib\\site-packages\\tslearn\\bases\\bases.py:15: UserWarning: h5py not installed, hdf5 features will not be supported.\n",
      "Install h5py to use hdf5 features: http://docs.h5py.org/\n",
      "  warn(h5py_msg)\n"
     ]
    }
   ],
   "source": [
    "import pickle\n",
    "import matplotlib.pyplot as plt\n",
    "import numpy as np\n",
    "from tslearn.clustering import silhouette_score\n",
    "from tslearn.clustering import TimeSeriesKMeans\n",
    "from sklearn.metrics import ConfusionMatrixDisplay\n",
    "import matplotlib.pyplot as plt\n",
    "from sklearn.metrics import accuracy_score, precision_score, recall_score\n",
    "import pandas as pd\n",
    "from itertools import permutations\n",
    "from itertools import product\n",
    "from sklearn.metrics import confusion_matrix"
   ]
  },
  {
   "cell_type": "code",
   "execution_count": 2,
   "metadata": {},
   "outputs": [],
   "source": [
    "campo3 = (6,0)\n",
    "k3 = 4\n",
    "\n",
    "campo4 = (2,0)\n",
    "k4 = 2\n",
    "\n",
    "campo6 = (6,0)\n",
    "k6 = 2\n",
    "\n",
    "with open('./pickles/newResa3.pickle', 'rb') as handle:\n",
    "    newResa3 = pickle.load(handle)\n",
    "\n",
    "with open('./pickles/newResa4.pickle', 'rb') as handle:\n",
    "    newResa4 = pickle.load(handle)\n",
    "\n",
    "with open('./pickles/newResa6.pickle', 'rb') as handle:\n",
    "    newResa6 = pickle.load(handle)\n",
    "\n",
    "with open('./pickles/kmeans_total_3_c_ndre'+str(k3)+'.pickle', 'rb') as handle:\n",
    "    kmeans_total3 = pickle.load(handle)\n",
    "\n",
    "with open('./pickles/kmeans_total_3_c_ndre'+str(k3)+'.pickle', 'rb') as handle:\n",
    "    kmeans_total3_master = pickle.load(handle)\n",
    "\n",
    "with open('./pickles/kmeans_total_4_c_ndre'+str(k4)+'.pickle', 'rb') as handle:\n",
    "    kmeans_total4 = pickle.load(handle)\n",
    "\n",
    "with open('./pickles/kmeans_total_4_c_ndre'+str(k4)+'.pickle', 'rb') as handle:\n",
    "    kmeans_total4_master = pickle.load(handle)\n",
    "\n",
    "with open('./pickles/kmeans_total_6_c_ndre'+str(k6)+'.pickle', 'rb') as handle:\n",
    "    kmeans_total6 = pickle.load(handle)\n",
    "\n",
    "with open('./pickles/kmeans_total_6_c_ndre'+str(k6)+'.pickle', 'rb') as handle:\n",
    "    kmeans_total6_master = pickle.load(handle)"
   ]
  },
  {
   "cell_type": "code",
   "execution_count": 3,
   "metadata": {},
   "outputs": [],
   "source": [
    "\n",
    "newResa3 = newResa3[(newResa3<=11000) & (newResa3 >= 4000)]\n",
    "newResa4 = newResa4[(newResa4<=11000) & (newResa4 >= 4000)]\n",
    "newResa6 = newResa6[(newResa6<=11000) & (newResa6 >= 4000)]"
   ]
  },
  {
   "cell_type": "code",
   "execution_count": 4,
   "metadata": {},
   "outputs": [],
   "source": [
    "num_classi = 6\n",
    "num_cluster = k6 \n",
    "campo = 6\n",
    "campoCoord = campo6\n",
    "kmeans_select = kmeans_total6\n",
    "newResa = newResa6"
   ]
  },
  {
   "cell_type": "code",
   "execution_count": 5,
   "metadata": {},
   "outputs": [],
   "source": [
    "def split_resa(k,resa):\n",
    "    percentile_value = 1/k\n",
    "    label = np.ndarray([resa.shape[0]],dtype=int)\n",
    "    label[:] = int(-1)\n",
    "\n",
    "    for i in range(0,k):\n",
    "        label[(resa <= np.quantile(resa,q=(percentile_value*(i+1)))) & (resa >= np.quantile(resa,q=(percentile_value*i)))] = i\n",
    "\n",
    "    return label\n"
   ]
  },
  {
   "cell_type": "code",
   "execution_count": 6,
   "metadata": {},
   "outputs": [],
   "source": [
    "def removeTexts(xlim=np.Inf,ylim=np.Inf):\n",
    "    axis = plt.gca()\n",
    "    for text in axis.texts:\n",
    "        if text.get_position()[0] > xlim or text.get_position()[1] > ylim: #check if x is more than 3\n",
    "            text.remove()\n"
   ]
  },
  {
   "cell_type": "code",
   "execution_count": 7,
   "metadata": {},
   "outputs": [
    {
     "data": {
      "image/png": "[encoded data removed]",
      "text/plain": [
       "<Figure size 640x480 with 2 Axes>"
      ]
     },
     "metadata": {},
     "output_type": "display_data"
    }
   ],
   "source": [
    "label = split_resa(num_classi,newResa)\n",
    "\n",
    "ConfusionMatrixDisplay.from_predictions(label,kmeans_select[campoCoord])\n",
    "xdiplsay = num_cluster-0.5\n",
    "ydislpay = num_classi-0.5\n",
    "removeTexts(xlim=xdiplsay,ylim=ydislpay)\n",
    "plt.title('NDRE campo '+str(campo)+' con '+str(num_classi)+' classi pre allineamento')\n",
    "plt.xlabel('Cluster')\n",
    "plt.ylabel('classi resa')\n",
    "plt.ylim([-0.5,ydislpay])\n",
    "plt.xlim([-0.5,xdiplsay])\n",
    "plt.show()"
   ]
  },
  {
   "cell_type": "code",
   "execution_count": 8,
   "metadata": {},
   "outputs": [
    {
     "name": "stdout",
     "output_type": "stream",
     "text": [
      "[(0, 0), (0, 1), (0, 2), (0, 3), (0, 4), (0, 5), (1, 0), (1, 1), (1, 2), (1, 3), (1, 4), (1, 5), (2, 0), (2, 1), (2, 2), (2, 3), (2, 4), (2, 5), (3, 0), (3, 1), (3, 2), (3, 3), (3, 4), (3, 5), (4, 0), (4, 1), (4, 2), (4, 3), (4, 4), (4, 5), (5, 0), (5, 1), (5, 2), (5, 3), (5, 4), (5, 5)]\n",
      "[0 1 2 3 4 5]\n",
      "2\n"
     ]
    }
   ],
   "source": [
    "print(list(product(np.unique(label),repeat=len(np.unique(kmeans_select[campoCoord])))))\n",
    "print(np.unique(label))\n",
    "print(len(np.unique(kmeans_select[campoCoord])))"
   ]
  },
  {
   "cell_type": "code",
   "execution_count": 9,
   "metadata": {},
   "outputs": [],
   "source": [
    "def best_cluster(matrice,cluster):\n",
    "    a = np.arange(matrice.shape[0])\n",
    "    permutation = list(product(np.unique(label),repeat=len(np.unique(cluster))))\n",
    "    obiettivo = {'max': 0,\n",
    "                'perm':[]}\n",
    "\n",
    "    for perm in permutation:\n",
    "        somma = 0\n",
    "        for elem,index in zip(perm,range(matrice.shape[0])):\n",
    "            somma += matrice[index,elem]\n",
    "        if(somma > obiettivo['max']):\n",
    "            obiettivo['max'] = somma\n",
    "            obiettivo['perm'] = perm\n",
    "\n",
    "    test_map = {}\n",
    "    for pippo,pluto in zip(obiettivo['perm'],range(matrice.shape[0])):\n",
    "        test_map[pluto] = pippo\n",
    "    return test_map\n"
   ]
  },
  {
   "cell_type": "code",
   "execution_count": 10,
   "metadata": {},
   "outputs": [
    {
     "name": "stdout",
     "output_type": "stream",
     "text": [
      "0 [0 1 2 3 4 5] [ 46  78 245 273 281 283]\n",
      "1 [0 1 2 3 4 5] [238 205  37  11   2   1]\n"
     ]
    }
   ],
   "source": [
    "cluster_class_mapping = {}\n",
    "matrice_elementi = np.ndarray((len(np.unique(kmeans_select[campoCoord])),num_classi))\n",
    "\n",
    "for kmean in range(0,len(np.unique(kmeans_select[campoCoord]))):\n",
    "\n",
    "    cluster_classes = label[kmeans_select[campoCoord] == kmean]\n",
    "    unique_classes, class_counts = np.unique(cluster_classes, return_counts=True)\n",
    "    print(kmean,unique_classes,class_counts)\n",
    "    matrice_elementi[kmean,:] = class_counts\n",
    "    \n",
    "cluster_class_mapping = best_cluster(matrice_elementi,kmeans_select[campoCoord])"
   ]
  },
  {
   "cell_type": "code",
   "execution_count": 11,
   "metadata": {},
   "outputs": [
    {
     "name": "stdout",
     "output_type": "stream",
     "text": [
      "(array([0, 1], dtype=int64), array([1206,  494], dtype=int64))\n",
      "{0: 5, 1: 0}\n"
     ]
    }
   ],
   "source": [
    "print(np.unique(kmeans_select[campoCoord],return_counts=True))\n",
    "print(cluster_class_mapping)"
   ]
  },
  {
   "cell_type": "code",
   "execution_count": 12,
   "metadata": {},
   "outputs": [],
   "source": [
    "difference = pd.DataFrame(data=[],columns=['num_cluster','num_class'])\n",
    "for i in range(len(np.unique(kmeans_select[campoCoord]))):\n",
    "    if(i != cluster_class_mapping[i]):\n",
    "        new_row = pd.Series({'num_cluster': i, 'num_class': cluster_class_mapping[i]})\n",
    "        difference = pd.concat([difference,new_row.to_frame().T],ignore_index=True)"
   ]
  },
  {
   "cell_type": "code",
   "execution_count": 13,
   "metadata": {},
   "outputs": [
    {
     "name": "stdout",
     "output_type": "stream",
     "text": [
      "  num_cluster num_class\n",
      "0           0         5\n",
      "1           1         0\n"
     ]
    }
   ],
   "source": [
    "print(difference)"
   ]
  },
  {
   "cell_type": "code",
   "execution_count": 14,
   "metadata": {},
   "outputs": [],
   "source": [
    "indici = []\n",
    "\n",
    "for a in difference['num_cluster']:\n",
    "    indici.append([\n",
    "    index for index in range(len(kmeans_select[campoCoord]))\n",
    "    if kmeans_select[campoCoord][index] == a\n",
    "])\n",
    "for ind,true_value in zip(indici,difference['num_class']):\n",
    "    kmeans_select[campoCoord][ind] = true_value"
   ]
  },
  {
   "cell_type": "code",
   "execution_count": 15,
   "metadata": {},
   "outputs": [
    {
     "name": "stdout",
     "output_type": "stream",
     "text": [
      "6\n",
      "6\n"
     ]
    }
   ],
   "source": [
    "cluster_class_mapping_test = {}\n",
    "matrice_elementi = np.ndarray((len(np.unique(kmeans_select[campoCoord])),num_classi))\n",
    "\n",
    "for kmean,position in zip(np.unique(kmeans_select[campoCoord]),range(len(np.unique(kmeans_select[campoCoord])))):\n",
    "\n",
    "    cluster_classes = label[kmeans_select[campoCoord] == kmean]\n",
    "    unique_classes, class_counts = np.unique(cluster_classes, return_counts=True)\n",
    "    print(len(class_counts))\n",
    "    matrice_elementi[position,:] = class_counts\n",
    "    \n",
    "cluster_class_mapping_test = best_cluster(matrice_elementi,kmeans_select[campoCoord])"
   ]
  },
  {
   "cell_type": "code",
   "execution_count": 16,
   "metadata": {},
   "outputs": [
    {
     "name": "stdout",
     "output_type": "stream",
     "text": [
      "{0: 0, 1: 5}\n"
     ]
    }
   ],
   "source": [
    "print(cluster_class_mapping_test)"
   ]
  },
  {
   "cell_type": "code",
   "execution_count": 17,
   "metadata": {},
   "outputs": [
    {
     "data": {
      "image/png": "[encoded data removed]",
      "text/plain": [
       "<Figure size 640x480 with 2 Axes>"
      ]
     },
     "metadata": {},
     "output_type": "display_data"
    }
   ],
   "source": [
    "ConfusionMatrixDisplay.from_predictions(label,kmeans_select[campoCoord])\n",
    "\n",
    "removeTexts(xlim=4)\n",
    "plt.title('NDRE campo '+str(campo)+' con '+str(num_classi)+' classi post allineamento')\n",
    "plt.xlabel('Cluster')\n",
    "plt.ylabel('classi resa')\n",
    "plt.show()"
   ]
  },
  {
   "cell_type": "code",
   "execution_count": 18,
   "metadata": {},
   "outputs": [
    {
     "name": "stdout",
     "output_type": "stream",
     "text": [
      "accuratezza 0.3064705882352941\n",
      "precision 0.11940690161428574\n",
      "recall 0.3057511737089202\n"
     ]
    },
    {
     "name": "stderr",
     "output_type": "stream",
     "text": [
      "c:\\Users\\Leo\\.conda\\envs\\bigdata\\lib\\site-packages\\sklearn\\metrics\\_classification.py:1344: UndefinedMetricWarning: Precision is ill-defined and being set to 0.0 in labels with no predicted samples. Use `zero_division` parameter to control this behavior.\n",
      "  _warn_prf(average, modifier, msg_start, len(result))\n"
     ]
    }
   ],
   "source": [
    "accuracy = str(accuracy_score(label,kmeans_select[campoCoord]))\n",
    "precision = str(precision_score(label,kmeans_select[campoCoord],average='macro'))\n",
    "recall = str(recall_score(label,kmeans_select[campoCoord],average='macro'))\n",
    "\n",
    "print(\"accuratezza \" + accuracy)\n",
    "print(\"precision \" + precision)\n",
    "print(\"recall \" + recall)\n"
   ]
  },
  {
   "cell_type": "code",
   "execution_count": 19,
   "metadata": {},
   "outputs": [
    {
     "name": "stdout",
     "output_type": "stream",
     "text": [
      "[[238   0   0   0   0  46]\n",
      " [205   0   0   0   0  78]\n",
      " [ 37   0   0   0   0 245]\n",
      " [ 11   0   0   0   0 273]\n",
      " [  2   0   0   0   0 281]\n",
      " [  1   0   0   0   0 283]]\n",
      "[[238  46]\n",
      " [205  78]\n",
      " [ 37 245]\n",
      " [ 11 273]\n",
      " [  2 281]\n",
      " [  1 283]]\n",
      "['0', '5']\n"
     ]
    }
   ],
   "source": [
    "# Nuova matrice di confusione\n",
    "confusion = confusion_matrix(label,kmeans_select[campoCoord])\n",
    "#new_confusion = np.concatenate((confusion[:,0:2],confusion[:,3:5]),axis=1)\n",
    "\n",
    "print(confusion)\n",
    "selected = []\n",
    "if num_classi > num_cluster: #rimuove la colonna nulla\n",
    "\n",
    "    moreRow = 0\n",
    "    new_confusion = np.zeros((confusion.shape[1],1),dtype=np.int16)\n",
    "\n",
    "    for i in range(confusion.shape[1]):\n",
    "        if np.sum(confusion[:,i]) != 0:\n",
    "            selected.append(str(i)) \n",
    "            new_confusion = np.concatenate((new_confusion,confusion[:,i].reshape(confusion.shape[1],1)),axis = 1)\n",
    "\n",
    "    new_confusion = new_confusion[:,1:]\n",
    "    \n",
    "    print(new_confusion)\n",
    "    print(selected)\n",
    "\n"
   ]
  },
  {
   "cell_type": "code",
   "execution_count": 20,
   "metadata": {},
   "outputs": [
    {
     "name": "stdout",
     "output_type": "stream",
     "text": [
      "['', '0', '1']\n"
     ]
    }
   ],
   "source": [
    "print(['']+list([str(x) for x in range(0,new_confusion.shape[1])]))"
   ]
  },
  {
   "cell_type": "code",
   "execution_count": 21,
   "metadata": {},
   "outputs": [
    {
     "data": {
      "image/png": "[encoded data removed]",
      "text/plain": [
       "<Figure size 640x480 with 2 Axes>"
      ]
     },
     "metadata": {},
     "output_type": "display_data"
    }
   ],
   "source": [
    "if moreRow != -1: \n",
    "    fig, ax = plt.subplots()\n",
    "    plt.rc('font', size=10)\n",
    "    image = ax.imshow(new_confusion[:,:],)\n",
    "\n",
    "    for i in range(0,new_confusion.shape[0]):\n",
    "        for j in range(0,new_confusion.shape[1]):\n",
    "            c = np.round(new_confusion[i,j],decimals=3)\n",
    "            ax.text(j, i, str(c), va='center', ha='center')\n",
    "\n",
    "    plt.colorbar(image)\n",
    "    \n",
    "    ax.set_xticks([-0.5]+list(range(0,new_confusion.shape[1])))\n",
    "    ax.set_xticklabels(['']+list([str(x) for x in range(0,new_confusion.shape[1])]))\n",
    "\n",
    "    ax.set_yticks([-0.5]+list(range(0,new_confusion.shape[0])))\n",
    "    ax.set_yticklabels(['']+list([str(x) for x in range(0,new_confusion.shape[0])]))\n",
    "    \n",
    "    if moreRow == 0:\n",
    "        ax.set_xticklabels(['']+selected)\n",
    "    elif moreRow == 1:\n",
    "        ax.set_yticklabels(['']+selected)\n",
    "    plt.title('NDRE campo '+str(campo)+' con '+str(num_classi)+' classi post allineamento')\n",
    "    plt.show()"
   ]
  }
 ],
 "metadata": {
  "kernelspec": {
   "display_name": "bigdata",
   "language": "python",
   "name": "python3"
  },
  "language_info": {
   "codemirror_mode": {
    "name": "ipython",
    "version": 3
   },
   "file_extension": ".py",
   "mimetype": "text/x-python",
   "name": "python",
   "nbconvert_exporter": "python",
   "pygments_lexer": "ipython3",
   "version": "3.8.16"
  }
 },
 "nbformat": 4,
 "nbformat_minor": 2
}
