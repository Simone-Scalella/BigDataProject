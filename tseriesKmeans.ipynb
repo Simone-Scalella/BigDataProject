{
 "cells": [
  {
   "cell_type": "code",
   "execution_count": 1,
   "metadata": {},
   "outputs": [],
   "source": [
    "from tslearn.clustering import TimeSeriesKMeans\n",
    "import pickle"
   ]
  },
  {
   "attachments": {},
   "cell_type": "markdown",
   "metadata": {},
   "source": [
    "# Caricamento delle serie temporali"
   ]
  },
  {
   "cell_type": "code",
   "execution_count": 2,
   "metadata": {},
   "outputs": [],
   "source": [
    "with open('./pickles/allPixelNDVIPoly.pickle', 'rb') as handle:\n",
    "    allPixelNDVIPoly = pickle.load(handle)"
   ]
  },
  {
   "attachments": {},
   "cell_type": "markdown",
   "metadata": {},
   "source": [
    "# Caricamento della resa "
   ]
  },
  {
   "cell_type": "code",
   "execution_count": 3,
   "metadata": {},
   "outputs": [],
   "source": [
    "with open('./pickles/newResa3.pickle', 'rb') as handle:\n",
    "    newResa3 = pickle.load(handle)"
   ]
  },
  {
   "attachments": {},
   "cell_type": "markdown",
   "metadata": {},
   "source": [
    "# Pulizia dei dati"
   ]
  },
  {
   "cell_type": "code",
   "execution_count": 4,
   "metadata": {},
   "outputs": [],
   "source": [
    "allPixelNDVIPoly = allPixelNDVIPoly[(newResa3<=11000) & (newResa3 >= 4000),:]\n",
    "newResa3 = newResa3[(newResa3<=11000) & (newResa3 >= 4000)]"
   ]
  },
  {
   "attachments": {},
   "cell_type": "markdown",
   "metadata": {},
   "source": [
    "# Eseguo l'operazione di clustering"
   ]
  },
  {
   "cell_type": "code",
   "execution_count": 5,
   "metadata": {},
   "outputs": [
    {
     "ename": "KeyboardInterrupt",
     "evalue": "",
     "output_type": "error",
     "traceback": [
      "\u001b[1;31m---------------------------------------------------------------------------\u001b[0m",
      "\u001b[1;31mKeyboardInterrupt\u001b[0m                         Traceback (most recent call last)",
      "Cell \u001b[1;32mIn[5], line 25\u001b[0m\n\u001b[0;32m     22\u001b[0m km \u001b[39m=\u001b[39m TimeSeriesKMeans(n_clusters\u001b[39m=\u001b[39mnum_cluster, metric\u001b[39m=\u001b[39m\u001b[39m\"\u001b[39m\u001b[39meuclidean\u001b[39m\u001b[39m\"\u001b[39m, max_iter\u001b[39m=\u001b[39m\u001b[39m25\u001b[39m,\n\u001b[0;32m     23\u001b[0m               random_state\u001b[39m=\u001b[39m\u001b[39m0\u001b[39m)\n\u001b[0;32m     24\u001b[0m \u001b[39mif\u001b[39;00m(new_series\u001b[39m.\u001b[39mshape[\u001b[39m1\u001b[39m] \u001b[39m!=\u001b[39m \u001b[39m0\u001b[39m):\n\u001b[1;32m---> 25\u001b[0m     y_pred \u001b[39m=\u001b[39m km\u001b[39m.\u001b[39;49mfit_predict(new_series)\n\u001b[0;32m     26\u001b[0m     kmeans_total[\u001b[39m-\u001b[39m\u001b[39m1\u001b[39m]\u001b[39m.\u001b[39mappend(y_pred)\n\u001b[0;32m     27\u001b[0m     newSeries_total[\u001b[39m-\u001b[39m\u001b[39m1\u001b[39m]\u001b[39m.\u001b[39mappend(new_series)\n",
      "File \u001b[1;32mc:\\Users\\pc\\anaconda3\\envs\\bigdata\\lib\\site-packages\\tslearn\\clustering\\kmeans.py:813\u001b[0m, in \u001b[0;36mTimeSeriesKMeans.fit_predict\u001b[1;34m(self, X, y)\u001b[0m\n\u001b[0;32m    793\u001b[0m \u001b[39m\u001b[39m\u001b[39m\"\"\"Fit k-means clustering using X and then predict the closest cluster\u001b[39;00m\n\u001b[0;32m    794\u001b[0m \u001b[39meach time series in X belongs to.\u001b[39;00m\n\u001b[0;32m    795\u001b[0m \n\u001b[1;32m   (...)\u001b[0m\n\u001b[0;32m    810\u001b[0m \u001b[39m    Index of the cluster each sample belongs to.\u001b[39;00m\n\u001b[0;32m    811\u001b[0m \u001b[39m\"\"\"\u001b[39;00m\n\u001b[0;32m    812\u001b[0m X \u001b[39m=\u001b[39m check_array(X, allow_nd\u001b[39m=\u001b[39m\u001b[39mTrue\u001b[39;00m, force_all_finite\u001b[39m=\u001b[39m\u001b[39m'\u001b[39m\u001b[39mallow-nan\u001b[39m\u001b[39m'\u001b[39m)\n\u001b[1;32m--> 813\u001b[0m \u001b[39mreturn\u001b[39;00m \u001b[39mself\u001b[39;49m\u001b[39m.\u001b[39;49mfit(X, y)\u001b[39m.\u001b[39mlabels_\n",
      "File \u001b[1;32mc:\\Users\\pc\\anaconda3\\envs\\bigdata\\lib\\site-packages\\tslearn\\clustering\\kmeans.py:758\u001b[0m, in \u001b[0;36mTimeSeriesKMeans.fit\u001b[1;34m(self, X, y)\u001b[0m\n\u001b[0;32m    754\u001b[0m \u001b[39mself\u001b[39m\u001b[39m.\u001b[39mn_iter_ \u001b[39m=\u001b[39m \u001b[39m0\u001b[39m\n\u001b[0;32m    756\u001b[0m max_attempts \u001b[39m=\u001b[39m \u001b[39mmax\u001b[39m(\u001b[39mself\u001b[39m\u001b[39m.\u001b[39mn_init, \u001b[39m10\u001b[39m)\n\u001b[1;32m--> 758\u001b[0m X_ \u001b[39m=\u001b[39m to_time_series_dataset(X)\n\u001b[0;32m    759\u001b[0m rs \u001b[39m=\u001b[39m check_random_state(\u001b[39mself\u001b[39m\u001b[39m.\u001b[39mrandom_state)\n\u001b[0;32m    761\u001b[0m \u001b[39mif\u001b[39;00m \u001b[39misinstance\u001b[39m(\u001b[39mself\u001b[39m\u001b[39m.\u001b[39minit, \u001b[39mstr\u001b[39m) \u001b[39mand\u001b[39;00m \u001b[39mself\u001b[39m\u001b[39m.\u001b[39minit \u001b[39m==\u001b[39m \u001b[39m\"\u001b[39m\u001b[39mk-means++\u001b[39m\u001b[39m\"\u001b[39m \u001b[39mand\u001b[39;00m \\\n\u001b[0;32m    762\u001b[0m                 \u001b[39mself\u001b[39m\u001b[39m.\u001b[39mmetric \u001b[39m==\u001b[39m \u001b[39m\"\u001b[39m\u001b[39meuclidean\u001b[39m\u001b[39m\"\u001b[39m:\n",
      "File \u001b[1;32mc:\\Users\\pc\\anaconda3\\envs\\bigdata\\lib\\site-packages\\tslearn\\utils\\utils.py:214\u001b[0m, in \u001b[0;36mto_time_series_dataset\u001b[1;34m(dataset, dtype)\u001b[0m\n\u001b[0;32m    212\u001b[0m dataset_out \u001b[39m=\u001b[39m numpy\u001b[39m.\u001b[39mzeros((n_ts, max_sz, d), dtype\u001b[39m=\u001b[39mdtype) \u001b[39m+\u001b[39m numpy\u001b[39m.\u001b[39mnan\n\u001b[0;32m    213\u001b[0m \u001b[39mfor\u001b[39;00m i \u001b[39min\u001b[39;00m \u001b[39mrange\u001b[39m(n_ts):\n\u001b[1;32m--> 214\u001b[0m     ts \u001b[39m=\u001b[39m to_time_series(dataset[i], remove_nans\u001b[39m=\u001b[39;49m\u001b[39mTrue\u001b[39;49;00m)\n\u001b[0;32m    215\u001b[0m     dataset_out[i, :ts\u001b[39m.\u001b[39mshape[\u001b[39m0\u001b[39m]] \u001b[39m=\u001b[39m ts\n\u001b[0;32m    216\u001b[0m \u001b[39mreturn\u001b[39;00m dataset_out\u001b[39m.\u001b[39mastype(dtype)\n",
      "File \u001b[1;32mc:\\Users\\pc\\anaconda3\\envs\\bigdata\\lib\\site-packages\\tslearn\\utils\\utils.py:152\u001b[0m, in \u001b[0;36mto_time_series\u001b[1;34m(ts, remove_nans)\u001b[0m\n\u001b[0;32m    150\u001b[0m     ts_out \u001b[39m=\u001b[39m ts_out\u001b[39m.\u001b[39mastype(\u001b[39mfloat\u001b[39m)\n\u001b[0;32m    151\u001b[0m \u001b[39mif\u001b[39;00m remove_nans:\n\u001b[1;32m--> 152\u001b[0m     ts_out \u001b[39m=\u001b[39m ts_out[:ts_size(ts_out)]\n\u001b[0;32m    153\u001b[0m \u001b[39mreturn\u001b[39;00m ts_out\n",
      "File \u001b[1;32mc:\\Users\\pc\\anaconda3\\envs\\bigdata\\lib\\site-packages\\tslearn\\utils\\utils.py:420\u001b[0m, in \u001b[0;36mts_size\u001b[1;34m(ts)\u001b[0m\n\u001b[0;32m    386\u001b[0m \u001b[39mdef\u001b[39;00m \u001b[39mts_size\u001b[39m(ts):\n\u001b[0;32m    387\u001b[0m \u001b[39m    \u001b[39m\u001b[39m\"\"\"Returns actual time series size.\u001b[39;00m\n\u001b[0;32m    388\u001b[0m \n\u001b[0;32m    389\u001b[0m \u001b[39m    Final timesteps that have `NaN` values for all dimensions will be removed\u001b[39;00m\n\u001b[1;32m   (...)\u001b[0m\n\u001b[0;32m    418\u001b[0m \u001b[39m    3\u001b[39;00m\n\u001b[0;32m    419\u001b[0m \u001b[39m    \"\"\"\u001b[39;00m\n\u001b[1;32m--> 420\u001b[0m     ts_ \u001b[39m=\u001b[39m to_time_series(ts)\n\u001b[0;32m    421\u001b[0m     sz \u001b[39m=\u001b[39m ts_\u001b[39m.\u001b[39mshape[\u001b[39m0\u001b[39m]\n\u001b[0;32m    422\u001b[0m     \u001b[39mwhile\u001b[39;00m sz \u001b[39m>\u001b[39m \u001b[39m0\u001b[39m \u001b[39mand\u001b[39;00m numpy\u001b[39m.\u001b[39mall(numpy\u001b[39m.\u001b[39misnan(ts_[sz \u001b[39m-\u001b[39m \u001b[39m1\u001b[39m])):\n",
      "File \u001b[1;32mc:\\Users\\pc\\anaconda3\\envs\\bigdata\\lib\\site-packages\\tslearn\\utils\\utils.py:146\u001b[0m, in \u001b[0;36mto_time_series\u001b[1;34m(ts, remove_nans)\u001b[0m\n\u001b[0;32m    111\u001b[0m \u001b[39mdef\u001b[39;00m \u001b[39mto_time_series\u001b[39m(ts, remove_nans\u001b[39m=\u001b[39m\u001b[39mFalse\u001b[39;00m):\n\u001b[0;32m    112\u001b[0m \u001b[39m    \u001b[39m\u001b[39m\"\"\"Transforms a time series so that it fits the format used in ``tslearn``\u001b[39;00m\n\u001b[0;32m    113\u001b[0m \u001b[39m    models.\u001b[39;00m\n\u001b[0;32m    114\u001b[0m \n\u001b[1;32m   (...)\u001b[0m\n\u001b[0;32m    144\u001b[0m \u001b[39m    to_time_series_dataset : Transforms a dataset of time series\u001b[39;00m\n\u001b[0;32m    145\u001b[0m \u001b[39m    \"\"\"\u001b[39;00m\n\u001b[1;32m--> 146\u001b[0m     ts_out \u001b[39m=\u001b[39m numpy\u001b[39m.\u001b[39;49marray(ts, copy\u001b[39m=\u001b[39;49m\u001b[39mTrue\u001b[39;49;00m)\n\u001b[0;32m    147\u001b[0m     \u001b[39mif\u001b[39;00m ts_out\u001b[39m.\u001b[39mndim \u001b[39m<\u001b[39m\u001b[39m=\u001b[39m \u001b[39m1\u001b[39m:\n\u001b[0;32m    148\u001b[0m         ts_out \u001b[39m=\u001b[39m ts_out\u001b[39m.\u001b[39mreshape((\u001b[39m-\u001b[39m\u001b[39m1\u001b[39m, \u001b[39m1\u001b[39m))\n",
      "\u001b[1;31mKeyboardInterrupt\u001b[0m: "
     ]
    }
   ],
   "source": [
    "# Global\n",
    "num_cluster = 5\n",
    "kmeans_total = []\n",
    "newSeries_total = []\n",
    "rese_total = []\n",
    "\n",
    "# k-means su tutto l'asse temporale \n",
    "\n",
    "km_one = TimeSeriesKMeans(n_clusters=num_cluster, metric=\"euclidean\", max_iter=100,\n",
    "                      random_state=0)\n",
    "y_pred_one = km_one.fit_predict(allPixelNDVIPoly)\n",
    "\n",
    "# k-means per tutti le combinazioni di intervalli temporali \n",
    "\n",
    "for a in range(0,155,5):\n",
    "    kmeans_total.append([])\n",
    "    newSeries_total.append([])\n",
    "    rese_total.append([])\n",
    "    for b in range(0,155,5):\n",
    "        new_series = allPixelNDVIPoly[:,a:150-b]\n",
    "\n",
    "        km = TimeSeriesKMeans(n_clusters=num_cluster, metric=\"euclidean\", max_iter=25,\n",
    "                      random_state=0)\n",
    "        if(new_series.shape[1] != 0):\n",
    "            y_pred = km.fit_predict(new_series)\n",
    "            kmeans_total[-1].append(y_pred)\n",
    "            newSeries_total[-1].append(new_series)\n",
    "            for p in range(0,num_cluster):\n",
    "                rese_total[-1].append(newResa3[y_pred == p])"
   ]
  },
  {
   "attachments": {},
   "cell_type": "markdown",
   "metadata": {},
   "source": [
    "# Salviamo i risultati"
   ]
  },
  {
   "cell_type": "code",
   "execution_count": null,
   "metadata": {},
   "outputs": [],
   "source": [
    "with open('./pickles/kmeans_total.pickle', 'wb') as handle:\n",
    "    pickle.dump(kmeans_total, handle, protocol=pickle.HIGHEST_PROTOCOL)\n",
    "with open('./pickles/newSeries_total.pickle', 'wb') as handle:\n",
    "    pickle.dump(newSeries_total, handle, protocol=pickle.HIGHEST_PROTOCOL)\n",
    "with open('./pickles/rese_total.pickle', 'wb') as handle:\n",
    "    pickle.dump(rese_total, handle, protocol=pickle.HIGHEST_PROTOCOL)"
   ]
  }
 ],
 "metadata": {
  "kernelspec": {
   "display_name": "bigdata",
   "language": "python",
   "name": "python3"
  },
  "language_info": {
   "codemirror_mode": {
    "name": "ipython",
    "version": 3
   },
   "file_extension": ".py",
   "mimetype": "text/x-python",
   "name": "python",
   "nbconvert_exporter": "python",
   "pygments_lexer": "ipython3",
   "version": "3.8.16"
  },
  "orig_nbformat": 4
 },
 "nbformat": 4,
 "nbformat_minor": 2
}
