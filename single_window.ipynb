{
 "cells": [
  {
   "cell_type": "code",
   "execution_count": 91,
   "metadata": {},
   "outputs": [],
   "source": [
    "import pickle\n",
    "import matplotlib.pyplot as plt\n",
    "import numpy as np\n",
    "from tslearn.clustering import silhouette_score\n",
    "from tslearn.clustering import TimeSeriesKMeans\n",
    "from sklearn.metrics import ConfusionMatrixDisplay\n",
    "import matplotlib.pyplot as plt\n",
    "from sklearn.metrics import accuracy_score, precision_score, recall_score\n",
    "import pandas as pd\n",
    "from itertools import permutations\n",
    "from itertools import product"
   ]
  },
  {
   "cell_type": "code",
   "execution_count": 92,
   "metadata": {},
   "outputs": [],
   "source": [
    "with open('./pickles/newResa3.pickle', 'rb') as handle:\n",
    "    newResa3 = pickle.load(handle)\n",
    "\n",
    "with open('./pickles/newResa4.pickle', 'rb') as handle:\n",
    "    newResa4 = pickle.load(handle)\n",
    "\n",
    "with open('./pickles/newResa6.pickle', 'rb') as handle:\n",
    "    newResa6 = pickle.load(handle)\n",
    "\n",
    "with open('./pickles/kmeans_total_3_c4.pickle', 'rb') as handle:\n",
    "    kmeans_total3 = pickle.load(handle)\n",
    "\n",
    "with open('./pickles/kmeans_total_3_c4.pickle', 'rb') as handle:\n",
    "    kmeans_total3_master = pickle.load(handle)\n",
    "\n",
    "with open('./pickles/kmeans_total_4_c6.pickle', 'rb') as handle:\n",
    "    kmeans_total4 = pickle.load(handle)\n",
    "\n",
    "with open('./pickles/kmeans_total_4_c6.pickle', 'rb') as handle:\n",
    "    kmeans_total4_master = pickle.load(handle)\n",
    "\n",
    "with open('./pickles/kmeans_total_6_c2.pickle', 'rb') as handle:\n",
    "    kmeans_total6 = pickle.load(handle)\n",
    "\n",
    "with open('./pickles/kmeans_total_6_c2.pickle', 'rb') as handle:\n",
    "    kmeans_total6_master = pickle.load(handle)"
   ]
  },
  {
   "cell_type": "code",
   "execution_count": 93,
   "metadata": {},
   "outputs": [],
   "source": [
    "num_classi = 2\n",
    "\n",
    "newResa3 = newResa3[(newResa3<=11000) & (newResa3 >= 4000)]\n",
    "newResa4 = newResa4[(newResa4<=11000) & (newResa4 >= 4000)]\n",
    "newResa6 = newResa6[(newResa6<=11000) & (newResa6 >= 4000)]"
   ]
  },
  {
   "cell_type": "code",
   "execution_count": 94,
   "metadata": {},
   "outputs": [],
   "source": [
    "def split_resa(k,resa):\n",
    "    percentile_value = 1/k\n",
    "    label = np.ndarray([resa.shape[0]],dtype=int)\n",
    "    label[:] = int(-1)\n",
    "\n",
    "    for i in range(0,k):\n",
    "        label[(resa <= np.quantile(resa,q=(percentile_value*(i+1)))) & (resa >= np.quantile(resa,q=(percentile_value*i)))] = i\n",
    "\n",
    "    return label\n"
   ]
  },
  {
   "cell_type": "code",
   "execution_count": 95,
   "metadata": {},
   "outputs": [],
   "source": [
    "def removeTexts(xlim=np.Inf,ylim=np.Inf):\n",
    "    axis = plt.gca()\n",
    "    for text in axis.texts:\n",
    "        if text.get_position()[0] > xlim or text.get_position()[0] > ylim: #check if x is more than 3\n",
    "            text.remove()\n"
   ]
  },
  {
   "cell_type": "code",
   "execution_count": 96,
   "metadata": {},
   "outputs": [
    {
     "data": {
      "image/png": "[encoded data removed]",
      "text/plain": [
       "<Figure size 640x480 with 2 Axes>"
      ]
     },
     "metadata": {},
     "output_type": "display_data"
    }
   ],
   "source": [
    "label = split_resa(num_classi,newResa3)\n",
    "\n",
    "ConfusionMatrixDisplay.from_predictions(label,kmeans_total3[6,0])\n",
    "\n",
    "removeTexts(xlim=3)\n",
    "plt.xlabel('Cluster')\n",
    "plt.ylabel('classi resa')\n",
    "plt.xlim([-0.5,3.5])\n",
    "plt.show()"
   ]
  },
  {
   "cell_type": "code",
   "execution_count": 97,
   "metadata": {},
   "outputs": [
    {
     "name": "stdout",
     "output_type": "stream",
     "text": [
      "[(0, 0, 0, 0), (0, 0, 0, 1), (0, 0, 1, 0), (0, 0, 1, 1), (0, 1, 0, 0), (0, 1, 0, 1), (0, 1, 1, 0), (0, 1, 1, 1), (1, 0, 0, 0), (1, 0, 0, 1), (1, 0, 1, 0), (1, 0, 1, 1), (1, 1, 0, 0), (1, 1, 0, 1), (1, 1, 1, 0), (1, 1, 1, 1)]\n",
      "[0 1]\n",
      "4\n"
     ]
    }
   ],
   "source": [
    "print(list(product(np.unique(label),repeat=len(np.unique(kmeans_total3[6,0])))))\n",
    "print(np.unique(label))\n",
    "print(len(np.unique(kmeans_total3[6,0])))"
   ]
  },
  {
   "cell_type": "code",
   "execution_count": 98,
   "metadata": {},
   "outputs": [],
   "source": [
    "def best_cluster(matrice,cluster):\n",
    "    a = np.arange(matrice.shape[0])\n",
    "    permutation = list(product(np.unique(label),repeat=len(np.unique(cluster))))\n",
    "    obiettivo = {'max': 0,\n",
    "                'perm':[]}\n",
    "\n",
    "    for perm in permutation:\n",
    "        somma = 0\n",
    "        for elem,index in zip(perm,range(matrice.shape[0])):\n",
    "            somma += matrice[index,elem]\n",
    "        if(somma > obiettivo['max']):\n",
    "            obiettivo['max'] = somma\n",
    "            obiettivo['perm'] = perm\n",
    "\n",
    "    test_map = {}\n",
    "    for pippo,pluto in zip(obiettivo['perm'],range(matrice.shape[0])):\n",
    "        test_map[pluto] = pippo\n",
    "    return test_map\n"
   ]
  },
  {
   "cell_type": "code",
   "execution_count": 99,
   "metadata": {},
   "outputs": [],
   "source": [
    "cluster_class_mapping = {}\n",
    "matrice_elementi = np.ndarray((len(np.unique(kmeans_total3[6,0])),num_classi))\n",
    "\n",
    "for kmean in range(0,len(np.unique(kmeans_total3[6,0]))):\n",
    "\n",
    "    cluster_classes = label[kmeans_total3[6,0] == kmean]\n",
    "    unique_classes, class_counts = np.unique(cluster_classes, return_counts=True)\n",
    "    \n",
    "    matrice_elementi[kmean,:] = class_counts\n",
    "    \n",
    "cluster_class_mapping = best_cluster(matrice_elementi,kmeans_total3[6,0])"
   ]
  },
  {
   "cell_type": "code",
   "execution_count": 100,
   "metadata": {},
   "outputs": [
    {
     "name": "stdout",
     "output_type": "stream",
     "text": [
      "{0: 1, 1: 0, 2: 0, 3: 1}\n"
     ]
    }
   ],
   "source": [
    "print(cluster_class_mapping)"
   ]
  },
  {
   "cell_type": "code",
   "execution_count": 101,
   "metadata": {},
   "outputs": [],
   "source": [
    "difference = pd.DataFrame(data=[],columns=['num_cluster','num_class'])\n",
    "for i in range(len(np.unique(kmeans_total3[6,0]))):\n",
    "    if(i != cluster_class_mapping[i]):\n",
    "        new_row = pd.Series({'num_cluster': i, 'num_class': cluster_class_mapping[i]})\n",
    "        difference = pd.concat([difference,new_row.to_frame().T],ignore_index=True)"
   ]
  },
  {
   "cell_type": "code",
   "execution_count": 102,
   "metadata": {},
   "outputs": [
    {
     "name": "stdout",
     "output_type": "stream",
     "text": [
      "  num_cluster num_class\n",
      "0           0         1\n",
      "1           1         0\n",
      "2           2         0\n",
      "3           3         1\n"
     ]
    }
   ],
   "source": [
    "print(difference)"
   ]
  },
  {
   "cell_type": "code",
   "execution_count": 103,
   "metadata": {},
   "outputs": [],
   "source": [
    "indici = []\n",
    "\n",
    "for a in difference['num_cluster']:\n",
    "    indici.append([\n",
    "    index for index in range(len(kmeans_total3[6,0]))\n",
    "    if kmeans_total3[6,0][index] == a\n",
    "])\n",
    "for ind,true_value in zip(indici,difference['num_class']):\n",
    "    kmeans_total3[6,0][ind] = true_value"
   ]
  },
  {
   "cell_type": "code",
   "execution_count": 104,
   "metadata": {},
   "outputs": [],
   "source": [
    "difference_test = pd.DataFrame(data=[],columns=['num_cluster','num_class'])\n",
    "for i in range(len(np.unique(kmeans_total3[6,0]))):\n",
    "    if(i != cluster_class_mapping[i]):\n",
    "        new_row = pd.Series({'num_cluster': i, 'num_class': cluster_class_mapping[i]})\n",
    "        difference_test = pd.concat([difference_test,new_row.to_frame().T],ignore_index=True)"
   ]
  },
  {
   "cell_type": "code",
   "execution_count": 105,
   "metadata": {},
   "outputs": [
    {
     "name": "stdout",
     "output_type": "stream",
     "text": [
      "  num_cluster num_class\n",
      "0           0         1\n",
      "1           1         0\n"
     ]
    }
   ],
   "source": [
    "print(difference_test)"
   ]
  },
  {
   "cell_type": "code",
   "execution_count": 111,
   "metadata": {},
   "outputs": [
    {
     "name": "stdout",
     "output_type": "stream",
     "text": [
      "(array([0, 1], dtype=int64), array([589, 882], dtype=int64))\n"
     ]
    }
   ],
   "source": [
    "print(np.unique(kmeans_total3[6,0],return_counts=True))"
   ]
  }
 ],
 "metadata": {
  "kernelspec": {
   "display_name": "bigdata",
   "language": "python",
   "name": "python3"
  },
  "language_info": {
   "codemirror_mode": {
    "name": "ipython",
    "version": 3
   },
   "file_extension": ".py",
   "mimetype": "text/x-python",
   "name": "python",
   "nbconvert_exporter": "python",
   "pygments_lexer": "ipython3",
   "version": "3.8.16"
  }
 },
 "nbformat": 4,
 "nbformat_minor": 2
}
