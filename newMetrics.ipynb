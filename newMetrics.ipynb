{
 "cells": [
  {
   "cell_type": "code",
   "execution_count": null,
   "metadata": {},
   "outputs": [],
   "source": [
    "import pickle\n",
    "import matplotlib.pyplot as plt\n",
    "import numpy as np\n",
    "from tslearn.clustering import silhouette_score\n",
    "import matplotlib as mpl"
   ]
  },
  {
   "cell_type": "code",
   "execution_count": null,
   "metadata": {},
   "outputs": [],
   "source": [
    "with open('./pickles/kmeans_total_3.pickle', 'rb') as handle:\n",
    "    kmeans_total3 = pickle.load(handle)\n",
    "\n",
    "with open('./pickles/kmeans_total_4.pickle', 'rb') as handle:\n",
    "    kmeans_total4 = pickle.load(handle)\n",
    "\n",
    "with open('./pickles/kmeans_total_6.pickle', 'rb') as handle:\n",
    "    kmeans_total6 = pickle.load(handle)\n",
    "\n",
    "with open('./pickles/newSeries_total_3.pickle', 'rb') as handle:\n",
    "    newSeries_total3 = pickle.load(handle)\n",
    "\n",
    "with open('./pickles/newSeries_total_4.pickle', 'rb') as handle:\n",
    "    newSeries_total4 = pickle.load(handle)\n",
    "\n",
    "with open('./pickles/newSeries_total_6.pickle', 'rb') as handle:\n",
    "    newSeries_total6 = pickle.load(handle)\n",
    "\n",
    "with open('./pickles/rese_total_3.pickle', 'rb') as handle:\n",
    "    rese_total_3 = pickle.load(handle)\n",
    "\n",
    "with open('./pickles/rese_total_4.pickle', 'rb') as handle:\n",
    "    rese_total_4 = pickle.load(handle)\n",
    "\n",
    "with open('./pickles/rese_total_6.pickle', 'rb') as handle:\n",
    "    rese_total_6 = pickle.load(handle)\n",
    "\n",
    "with open('./pickles/newResa3.pickle', 'rb') as handle:\n",
    "    newResa3 = pickle.load(handle)\n",
    "\n",
    "with open('./pickles/newResa4.pickle', 'rb') as handle:\n",
    "    newResa4 = pickle.load(handle)\n",
    "\n",
    "with open('./pickles/newResa6.pickle', 'rb') as handle:\n",
    "    newResa6 = pickle.load(handle)"
   ]
  },
  {
   "cell_type": "code",
   "execution_count": null,
   "metadata": {},
   "outputs": [],
   "source": [
    "# Numero di cluster \n",
    "\n",
    "num_cluster = 2\n",
    "\n",
    "# Rese pulite\n",
    "\n",
    "newResa3 = newResa3[(newResa3<=11000) & (newResa3 >= 4000)]\n",
    "\n",
    "newResa4 = newResa4[(newResa4<=11000) & (newResa4 >= 4000)]\n",
    "\n",
    "newResa6 = newResa6[(newResa6<=11000) & (newResa6 >= 4000)]"
   ]
  },
  {
   "cell_type": "markdown",
   "metadata": {},
   "source": [
    "# Andiamo a calcolare una nuova metrica di coesione"
   ]
  },
  {
   "cell_type": "markdown",
   "metadata": {},
   "source": []
  }
 ],
 "metadata": {
  "kernelspec": {
   "display_name": "bigdata",
   "language": "python",
   "name": "python3"
  },
  "language_info": {
   "name": "python",
   "version": "3.8.16"
  },
  "orig_nbformat": 4
 },
 "nbformat": 4,
 "nbformat_minor": 2
}
