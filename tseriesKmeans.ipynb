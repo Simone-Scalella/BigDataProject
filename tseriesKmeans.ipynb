{
 "cells": [
  {
   "cell_type": "code",
   "execution_count": 1,
   "metadata": {},
   "outputs": [
    {
     "name": "stderr",
     "output_type": "stream",
     "text": [
      "c:\\Users\\Leo\\.conda\\envs\\bigdata\\lib\\site-packages\\tslearn\\bases\\bases.py:15: UserWarning: h5py not installed, hdf5 features will not be supported.\n",
      "Install h5py to use hdf5 features: http://docs.h5py.org/\n",
      "  warn(h5py_msg)\n"
     ]
    }
   ],
   "source": [
    "from tslearn.clustering import TimeSeriesKMeans\n",
    "import pickle\n",
    "import numpy as np"
   ]
  },
  {
   "attachments": {},
   "cell_type": "markdown",
   "metadata": {},
   "source": [
    "# Caricamento delle serie temporali"
   ]
  },
  {
   "cell_type": "code",
   "execution_count": 2,
   "metadata": {},
   "outputs": [],
   "source": [
    "with open('./pickles/allPixelNDVIPoly.pickle', 'rb') as handle:\n",
    "    allPixelNDVIPoly = pickle.load(handle)"
   ]
  },
  {
   "attachments": {},
   "cell_type": "markdown",
   "metadata": {},
   "source": [
    "# Caricamento della resa "
   ]
  },
  {
   "cell_type": "code",
   "execution_count": 3,
   "metadata": {},
   "outputs": [],
   "source": [
    "with open('./pickles/newResa3.pickle', 'rb') as handle:\n",
    "    newResa3 = pickle.load(handle)"
   ]
  },
  {
   "attachments": {},
   "cell_type": "markdown",
   "metadata": {},
   "source": [
    "# Pulizia dei dati"
   ]
  },
  {
   "cell_type": "code",
   "execution_count": 4,
   "metadata": {},
   "outputs": [],
   "source": [
    "allPixelNDVIPoly = allPixelNDVIPoly[(newResa3<=11000) & (newResa3 >= 4000),:]\n",
    "newResa3 = newResa3[(newResa3<=11000) & (newResa3 >= 4000)]"
   ]
  },
  {
   "attachments": {},
   "cell_type": "markdown",
   "metadata": {},
   "source": [
    "# Eseguo l'operazione di clustering"
   ]
  },
  {
   "cell_type": "code",
   "execution_count": 5,
   "metadata": {},
   "outputs": [],
   "source": [
    "# Global\n",
    "num_cluster = 5\n",
    "kmeans_total = np.ndarray([int(155/5),int(155/5)], dtype='object')\n",
    "newSeries_total = np.ndarray([int(155/5),int(155/5)], dtype='object')\n",
    "rese_total = np.ndarray([int(155/5),int(155/5),num_cluster], dtype='object')\n",
    "\n",
    "# k-means per tutti le combinazioni di intervalli temporali \n",
    "\n",
    "for a in range(0,155,5):\n",
    "    for b in range(0,155,5):\n",
    "        if b>a:\n",
    "            new_series = allPixelNDVIPoly[:,a:b]\n",
    "\n",
    "            km = TimeSeriesKMeans(n_clusters=num_cluster, metric=\"euclidean\", max_iter=25,\n",
    "                          random_state=0)\n",
    "            if(new_series.shape[1] != 0):\n",
    "                y_pred = km.fit_predict(new_series)\n",
    "                kmeans_total[int(a/5),int(b/5)] = y_pred\n",
    "                newSeries_total[int(a/5),int(b/5)] = new_series\n",
    "                for p in range(0,num_cluster):\n",
    "                    rese_total[int(a/5),int(b/5),p] = newResa3[y_pred == p]"
   ]
  },
  {
   "attachments": {},
   "cell_type": "markdown",
   "metadata": {},
   "source": [
    "# Salviamo i risultati"
   ]
  },
  {
   "cell_type": "code",
   "execution_count": 6,
   "metadata": {},
   "outputs": [],
   "source": [
    "with open('./pickles/kmeans_total.pickle', 'wb') as handle:\n",
    "    pickle.dump(kmeans_total, handle, protocol=pickle.HIGHEST_PROTOCOL)\n",
    "with open('./pickles/newSeries_total.pickle', 'wb') as handle:\n",
    "    pickle.dump(newSeries_total, handle, protocol=pickle.HIGHEST_PROTOCOL)\n",
    "with open('./pickles/rese_total.pickle', 'wb') as handle:\n",
    "    pickle.dump(rese_total, handle, protocol=pickle.HIGHEST_PROTOCOL)"
   ]
  }
 ],
 "metadata": {
  "kernelspec": {
   "display_name": "bigdata",
   "language": "python",
   "name": "python3"
  },
  "language_info": {
   "codemirror_mode": {
    "name": "ipython",
    "version": 3
   },
   "file_extension": ".py",
   "mimetype": "text/x-python",
   "name": "python",
   "nbconvert_exporter": "python",
   "pygments_lexer": "ipython3",
   "version": "3.8.16"
  },
  "orig_nbformat": 4
 },
 "nbformat": 4,
 "nbformat_minor": 2
}
