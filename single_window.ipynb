{
 "cells": [
  {
   "cell_type": "code",
   "execution_count": 30,
   "metadata": {},
   "outputs": [],
   "source": [
    "import pickle\n",
    "import matplotlib.pyplot as plt\n",
    "import numpy as np\n",
    "from tslearn.clustering import silhouette_score\n",
    "from tslearn.clustering import TimeSeriesKMeans\n",
    "from sklearn.metrics import ConfusionMatrixDisplay\n",
    "import matplotlib.pyplot as plt\n",
    "from sklearn.metrics import accuracy_score, precision_score, recall_score\n",
    "import pandas as pd\n",
    "from itertools import permutations\n",
    "from itertools import combinations_with_replacement"
   ]
  },
  {
   "cell_type": "code",
   "execution_count": 31,
   "metadata": {},
   "outputs": [],
   "source": [
    "with open('./pickles/newResa3.pickle', 'rb') as handle:\n",
    "    newResa3 = pickle.load(handle)\n",
    "\n",
    "with open('./pickles/newResa4.pickle', 'rb') as handle:\n",
    "    newResa4 = pickle.load(handle)\n",
    "\n",
    "with open('./pickles/newResa6.pickle', 'rb') as handle:\n",
    "    newResa6 = pickle.load(handle)\n",
    "\n",
    "with open('./pickles/kmeans_total_3_c4.pickle', 'rb') as handle:\n",
    "    kmeans_total3 = pickle.load(handle)\n",
    "\n",
    "with open('./pickles/kmeans_total_3_c4.pickle', 'rb') as handle:\n",
    "    kmeans_total3_master = pickle.load(handle)\n",
    "\n",
    "with open('./pickles/kmeans_total_4_c6.pickle', 'rb') as handle:\n",
    "    kmeans_total4 = pickle.load(handle)\n",
    "\n",
    "with open('./pickles/kmeans_total_4_c6.pickle', 'rb') as handle:\n",
    "    kmeans_total4_master = pickle.load(handle)\n",
    "\n",
    "with open('./pickles/kmeans_total_6_c2.pickle', 'rb') as handle:\n",
    "    kmeans_total6 = pickle.load(handle)\n",
    "\n",
    "with open('./pickles/kmeans_total_6_c2.pickle', 'rb') as handle:\n",
    "    kmeans_total6_master = pickle.load(handle)"
   ]
  },
  {
   "cell_type": "code",
   "execution_count": 32,
   "metadata": {},
   "outputs": [],
   "source": [
    "num_classi = 6\n",
    "\n",
    "newResa3 = newResa3[(newResa3<=11000) & (newResa3 >= 4000)]\n",
    "newResa4 = newResa4[(newResa4<=11000) & (newResa4 >= 4000)]\n",
    "newResa6 = newResa6[(newResa6<=11000) & (newResa6 >= 4000)]"
   ]
  },
  {
   "cell_type": "code",
   "execution_count": 33,
   "metadata": {},
   "outputs": [],
   "source": [
    "def split_resa(k,resa):\n",
    "    percentile_value = 1/k\n",
    "    label = np.ndarray([resa.shape[0]],dtype=int)\n",
    "    label[:] = int(-1)\n",
    "\n",
    "    for i in range(0,k):\n",
    "        label[(resa <= np.quantile(resa,q=(percentile_value*(i+1)))) & (resa >= np.quantile(resa,q=(percentile_value*i)))] = i\n",
    "\n",
    "    return label\n"
   ]
  },
  {
   "cell_type": "code",
   "execution_count": 34,
   "metadata": {},
   "outputs": [],
   "source": [
    "def removeTexts(xlim=np.Inf,ylim=np.Inf):\n",
    "    axis = plt.gca()\n",
    "    for text in axis.texts:\n",
    "        if text.get_position()[0] > xlim or text.get_position()[0] > ylim: #check if x is more than 3\n",
    "            text.remove()\n"
   ]
  },
  {
   "cell_type": "code",
   "execution_count": 35,
   "metadata": {},
   "outputs": [
    {
     "data": {
      "image/png": "[encoded data removed]",
      "text/plain": [
       "<Figure size 640x480 with 2 Axes>"
      ]
     },
     "metadata": {},
     "output_type": "display_data"
    }
   ],
   "source": [
    "label = split_resa(num_classi,newResa3)\n",
    "\n",
    "ConfusionMatrixDisplay.from_predictions(label,kmeans_total3[6,0])\n",
    "\n",
    "removeTexts(xlim=3)\n",
    "plt.xlabel('Cluster')\n",
    "plt.ylabel('classi resa')\n",
    "plt.xlim([-0.5,3.5])\n",
    "plt.show()"
   ]
  },
  {
   "cell_type": "code",
   "execution_count": 36,
   "metadata": {},
   "outputs": [
    {
     "name": "stdout",
     "output_type": "stream",
     "text": [
      "[(0, 0, 0, 0), (0, 0, 0, 1), (0, 0, 0, 2), (0, 0, 0, 3), (0, 0, 0, 4), (0, 0, 0, 5), (0, 0, 1, 1), (0, 0, 1, 2), (0, 0, 1, 3), (0, 0, 1, 4), (0, 0, 1, 5), (0, 0, 2, 2), (0, 0, 2, 3), (0, 0, 2, 4), (0, 0, 2, 5), (0, 0, 3, 3), (0, 0, 3, 4), (0, 0, 3, 5), (0, 0, 4, 4), (0, 0, 4, 5), (0, 0, 5, 5), (0, 1, 1, 1), (0, 1, 1, 2), (0, 1, 1, 3), (0, 1, 1, 4), (0, 1, 1, 5), (0, 1, 2, 2), (0, 1, 2, 3), (0, 1, 2, 4), (0, 1, 2, 5), (0, 1, 3, 3), (0, 1, 3, 4), (0, 1, 3, 5), (0, 1, 4, 4), (0, 1, 4, 5), (0, 1, 5, 5), (0, 2, 2, 2), (0, 2, 2, 3), (0, 2, 2, 4), (0, 2, 2, 5), (0, 2, 3, 3), (0, 2, 3, 4), (0, 2, 3, 5), (0, 2, 4, 4), (0, 2, 4, 5), (0, 2, 5, 5), (0, 3, 3, 3), (0, 3, 3, 4), (0, 3, 3, 5), (0, 3, 4, 4), (0, 3, 4, 5), (0, 3, 5, 5), (0, 4, 4, 4), (0, 4, 4, 5), (0, 4, 5, 5), (0, 5, 5, 5), (1, 1, 1, 1), (1, 1, 1, 2), (1, 1, 1, 3), (1, 1, 1, 4), (1, 1, 1, 5), (1, 1, 2, 2), (1, 1, 2, 3), (1, 1, 2, 4), (1, 1, 2, 5), (1, 1, 3, 3), (1, 1, 3, 4), (1, 1, 3, 5), (1, 1, 4, 4), (1, 1, 4, 5), (1, 1, 5, 5), (1, 2, 2, 2), (1, 2, 2, 3), (1, 2, 2, 4), (1, 2, 2, 5), (1, 2, 3, 3), (1, 2, 3, 4), (1, 2, 3, 5), (1, 2, 4, 4), (1, 2, 4, 5), (1, 2, 5, 5), (1, 3, 3, 3), (1, 3, 3, 4), (1, 3, 3, 5), (1, 3, 4, 4), (1, 3, 4, 5), (1, 3, 5, 5), (1, 4, 4, 4), (1, 4, 4, 5), (1, 4, 5, 5), (1, 5, 5, 5), (2, 2, 2, 2), (2, 2, 2, 3), (2, 2, 2, 4), (2, 2, 2, 5), (2, 2, 3, 3), (2, 2, 3, 4), (2, 2, 3, 5), (2, 2, 4, 4), (2, 2, 4, 5), (2, 2, 5, 5), (2, 3, 3, 3), (2, 3, 3, 4), (2, 3, 3, 5), (2, 3, 4, 4), (2, 3, 4, 5), (2, 3, 5, 5), (2, 4, 4, 4), (2, 4, 4, 5), (2, 4, 5, 5), (2, 5, 5, 5), (3, 3, 3, 3), (3, 3, 3, 4), (3, 3, 3, 5), (3, 3, 4, 4), (3, 3, 4, 5), (3, 3, 5, 5), (3, 4, 4, 4), (3, 4, 4, 5), (3, 4, 5, 5), (3, 5, 5, 5), (4, 4, 4, 4), (4, 4, 4, 5), (4, 4, 5, 5), (4, 5, 5, 5), (5, 5, 5, 5)]\n",
      "[0 1 2 3 4 5]\n",
      "4\n"
     ]
    }
   ],
   "source": [
    "print(list(combinations_with_replacement(np.unique(label),len(np.unique(kmeans_total3[6,0])))))\n",
    "print(np.unique(label))\n",
    "print(len(np.unique(kmeans_total3[6,0])))"
   ]
  },
  {
   "cell_type": "code",
   "execution_count": 37,
   "metadata": {},
   "outputs": [],
   "source": [
    "def best_cluster(matrice,cluster):\n",
    "    a = np.arange(matrice.shape[0])\n",
    "    permutation = list(combinations_with_replacement(np.unique(label),len(np.unique(cluster))))\n",
    "    obiettivo = {'max': 0,\n",
    "                'perm':[]}\n",
    "\n",
    "    for perm in permutation:\n",
    "        somma = 0\n",
    "        for elem,index in zip(perm,range(matrice.shape[0])):\n",
    "            somma += matrice[index,elem]\n",
    "        if(somma > obiettivo['max']):\n",
    "            obiettivo['max'] = somma\n",
    "            obiettivo['perm'] = perm\n",
    "\n",
    "    test_map = {}\n",
    "    for pippo,pluto in zip(obiettivo['perm'],range(matrice.shape[0])):\n",
    "        test_map[pluto] = pippo\n",
    "    return test_map\n"
   ]
  },
  {
   "cell_type": "code",
   "execution_count": 38,
   "metadata": {},
   "outputs": [],
   "source": [
    "cluster_class_mapping = {}\n",
    "matrice_elementi = np.ndarray((len(np.unique(kmeans_total3[6,0])),num_classi))\n",
    "\n",
    "for kmean in range(0,len(np.unique(kmeans_total3[6,0]))):\n",
    "\n",
    "    cluster_classes = label[kmeans_total3[6,0] == kmean]\n",
    "    unique_classes, class_counts = np.unique(cluster_classes, return_counts=True)\n",
    "    \n",
    "    matrice_elementi[kmean,:] = class_counts\n",
    "    \n",
    "cluster_class_mapping = best_cluster(matrice_elementi,kmeans_total3[6,0])"
   ]
  },
  {
   "cell_type": "code",
   "execution_count": 39,
   "metadata": {},
   "outputs": [
    {
     "name": "stdout",
     "output_type": "stream",
     "text": [
      "{0: 0, 1: 0, 2: 0, 3: 3}\n"
     ]
    }
   ],
   "source": [
    "print(cluster_class_mapping)"
   ]
  }
 ],
 "metadata": {
  "kernelspec": {
   "display_name": "bigdata",
   "language": "python",
   "name": "python3"
  },
  "language_info": {
   "codemirror_mode": {
    "name": "ipython",
    "version": 3
   },
   "file_extension": ".py",
   "mimetype": "text/x-python",
   "name": "python",
   "nbconvert_exporter": "python",
   "pygments_lexer": "ipython3",
   "version": "3.8.16"
  }
 },
 "nbformat": 4,
 "nbformat_minor": 2
}
