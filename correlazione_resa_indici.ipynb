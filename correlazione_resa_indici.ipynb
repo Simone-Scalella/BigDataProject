{
 "cells": [
  {
   "cell_type": "code",
   "execution_count": null,
   "metadata": {},
   "outputs": [],
   "source": [
    "import pickle\n",
    "import numpy as np\n",
    "from skfda import FDataGrid\n",
    "from skfda.preprocessing.dim_reduction import FPCA\n",
    "import matplotlib.pyplot as plt"
   ]
  },
  {
   "cell_type": "code",
   "execution_count": null,
   "metadata": {},
   "outputs": [],
   "source": [
    "with open('./pickles/allPixelNDVIPoly.pickle', 'rb') as handle:\n",
    "    allPixelNDVIPoly_3 = pickle.load(handle)\n",
    "\n",
    "with open('./pickles/allPixelNDVIPoly4.pickle', 'rb') as handle:\n",
    "    allPixelNDVIPoly_4 = pickle.load(handle)\n",
    "\n",
    "with open('./pickles/allPixelNDVIPoly6.pickle', 'rb') as handle:\n",
    "    allPixelNDVIPoly_6 = pickle.load(handle)\n",
    "\n",
    "with open('./pickles/allPixelNDREPoly.pickle', 'rb') as handle:\n",
    "    allPixelNDREPoly_3 = pickle.load(handle)\n",
    "\n",
    "with open('./pickles/allPixelNDREPoly4.pickle', 'rb') as handle:\n",
    "    allPixelNDREPoly_4 = pickle.load(handle)\n",
    "\n",
    "with open('./pickles/allPixelNDREPoly6.pickle', 'rb') as handle:\n",
    "    allPixelNDREPoly_6 = pickle.load(handle)"
   ]
  },
  {
   "cell_type": "code",
   "execution_count": null,
   "metadata": {},
   "outputs": [],
   "source": [
    "with open('./pickles/newResa3.pickle', 'rb') as handle:\n",
    "    newResa3 = pickle.load(handle)\n",
    "\n",
    "with open('./pickles/newResa4.pickle', 'rb') as handle:\n",
    "    newResa4 = pickle.load(handle)\n",
    "\n",
    "with open('./pickles/newResa6.pickle', 'rb') as handle:\n",
    "    newResa6 = pickle.load(handle)"
   ]
  },
  {
   "attachments": {},
   "cell_type": "markdown",
   "metadata": {},
   "source": [
    "# Pulizia dei dati"
   ]
  },
  {
   "cell_type": "code",
   "execution_count": null,
   "metadata": {},
   "outputs": [],
   "source": [
    "allPixelNDVIPoly_3 = allPixelNDVIPoly_3[(newResa3<=11000) & (newResa3 >= 4000),:]\n",
    "allPixelNDREPoly_3 = allPixelNDREPoly_3[(newResa3<=11000) & (newResa3 >= 4000),:]\n",
    "newResa3 = newResa3[(newResa3<=11000) & (newResa3 >= 4000)]\n",
    "\n",
    "allPixelNDVIPoly_4 = allPixelNDVIPoly_4[(newResa4<=11000) & (newResa4 >= 4000),:]\n",
    "allPixelNDREPoly_4 = allPixelNDREPoly_4[(newResa4<=11000) & (newResa4 >= 4000),:]\n",
    "newResa4 = newResa4[(newResa4<=11000) & (newResa4 >= 4000)]\n",
    "\n",
    "allPixelNDVIPoly_6 = allPixelNDVIPoly_6[(newResa6<=11000) & (newResa6 >= 4000),:]\n",
    "allPixelNDREPoly_6 = allPixelNDREPoly_6[(newResa6<=11000) & (newResa6 >= 4000),:]\n",
    "newResa6 = newResa6[(newResa6<=11000) & (newResa6 >= 4000)]"
   ]
  }
 ],
 "metadata": {
  "kernelspec": {
   "display_name": "bigdata",
   "language": "python",
   "name": "python3"
  },
  "language_info": {
   "name": "python",
   "version": "3.8.16"
  },
  "orig_nbformat": 4
 },
 "nbformat": 4,
 "nbformat_minor": 2
}
