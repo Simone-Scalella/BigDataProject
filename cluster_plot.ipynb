{
 "cells": [
  {
   "cell_type": "code",
   "execution_count": null,
   "metadata": {},
   "outputs": [],
   "source": [
    "from tslearn.clustering import TimeSeriesKMeans\n",
    "import pickle\n",
    "import matplotlib.pyplot as plt"
   ]
  },
  {
   "attachments": {},
   "cell_type": "markdown",
   "metadata": {},
   "source": [
    "# Carico le serie temporali e resa"
   ]
  },
  {
   "cell_type": "code",
   "execution_count": null,
   "metadata": {},
   "outputs": [],
   "source": [
    "with open('./pickles/allPixelNDVIPoly.pickle', 'rb') as handle:\n",
    "    allPixelNDVIPoly = pickle.load(handle)\n",
    "\n",
    "with open('./pickles/newResa3.pickle', 'rb') as handle:\n",
    "    newResa3 = pickle.load(handle)\n",
    "\n",
    "num_cluster = 5"
   ]
  },
  {
   "attachments": {},
   "cell_type": "markdown",
   "metadata": {},
   "source": [
    "# filtraggio"
   ]
  },
  {
   "cell_type": "code",
   "execution_count": null,
   "metadata": {},
   "outputs": [],
   "source": [
    "allPixelNDVIPoly = allPixelNDVIPoly[(newResa3<=11000) & (newResa3 >= 4000),:]\n",
    "newResa3 = newResa3[(newResa3<=11000) & (newResa3 >= 4000)]"
   ]
  },
  {
   "attachments": {},
   "cell_type": "markdown",
   "metadata": {},
   "source": [
    "# k-means su tutta la serie temporale "
   ]
  },
  {
   "cell_type": "code",
   "execution_count": null,
   "metadata": {},
   "outputs": [],
   "source": [
    "# k-means su tutto l'asse temporale \n",
    "\n",
    "km_one = TimeSeriesKMeans(n_clusters=num_cluster, metric=\"euclidean\", max_iter=100,\n",
    "                      random_state=0)\n",
    "y_pred_one = km_one.fit_predict(allPixelNDVIPoly)"
   ]
  },
  {
   "attachments": {},
   "cell_type": "markdown",
   "metadata": {},
   "source": [
    "# plot dei cluster"
   ]
  },
  {
   "cell_type": "code",
   "execution_count": null,
   "metadata": {},
   "outputs": [],
   "source": [
    "fig, axs = plt.subplots(nrows=num_cluster, ncols=1, figsize=(10, 10))\n",
    "plt.subplots_adjust(hspace=1)\n",
    "fig.suptitle('plot cluster')\n",
    "plt.sca(axs[0])\n",
    "plt.xticks(rotation=25) # Rotate label\n",
    "\n",
    "for b in range(0,num_cluster):\n",
    "    \n",
    "    for xx in allPixelNDVIPoly[y_pred_one == b]:\n",
    "        axs[b].plot(xx.ravel(), \"k-\", alpha=.2)\n",
    "\n",
    "    axs[b].plot(range(0,150),km_one.cluster_centers_[b].ravel(),color=\"green\")\n",
    "    axs[b].set_title(\"cluster \"+str(b))\n",
    "    axs[b].set_xlabel(\"time\")\n",
    "    axs[b].set_ylabel(\"value\")\n",
    "    plt.sca(axs[b])\n",
    "\n",
    "plt.show()"
   ]
  },
  {
   "cell_type": "code",
   "execution_count": null,
   "metadata": {},
   "outputs": [],
   "source": [
    "transparent = 0.01\n",
    "\n",
    "colors = ['green','red','purple','yellow','blue']\n",
    "\n",
    "fig, axs = plt.subplots(nrows=1, ncols=1, figsize=(8, 8))\n",
    "fig.suptitle('plot cluster')\n",
    "plt.sca(axs)\n",
    "plt.xticks(rotation=25) # Rotate label\n",
    "\n",
    "axs.set_title(\"cluster\")\n",
    "axs.set_xlabel(\"time\")\n",
    "axs.set_ylabel(\"value\")\n",
    "\n",
    "for a in range(0,num_cluster):\n",
    "    for xx in allPixelNDVIPoly[y_pred_one == a]:\n",
    "        axs.plot(xx.ravel(), \"k-\", alpha=transparent,color=colors[a])\n",
    "    \n",
    "    axs.plot(range(0,150),km_one.cluster_centers_[a],color=\"black\")\n",
    "\n",
    "\n",
    "plt.sca(axs)\n",
    "plt.xticks(rotation=25)\n",
    "plt.show()"
   ]
  }
 ],
 "metadata": {
  "language_info": {
   "name": "python"
  },
  "orig_nbformat": 4
 },
 "nbformat": 4,
 "nbformat_minor": 2
}
