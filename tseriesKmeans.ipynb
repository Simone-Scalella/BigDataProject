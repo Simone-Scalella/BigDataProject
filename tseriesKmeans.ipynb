{
 "cells": [
  {
   "cell_type": "code",
   "execution_count": 1,
   "metadata": {},
   "outputs": [
    {
     "name": "stderr",
     "output_type": "stream",
     "text": [
      "g:\\ProgramData\\Anaconda3\\envs\\bigdata\\lib\\site-packages\\tslearn\\bases\\bases.py:15: UserWarning: h5py not installed, hdf5 features will not be supported.\n",
      "Install h5py to use hdf5 features: http://docs.h5py.org/\n",
      "  warn(h5py_msg)\n"
     ]
    }
   ],
   "source": [
    "from tslearn.clustering import TimeSeriesKMeans\n",
    "import pickle\n",
    "import numpy as np"
   ]
  },
  {
   "attachments": {},
   "cell_type": "markdown",
   "metadata": {},
   "source": [
    "# Caricamento delle serie temporali"
   ]
  },
  {
   "cell_type": "code",
   "execution_count": 2,
   "metadata": {},
   "outputs": [],
   "source": [
    "with open('./pickles/allPixelNDVIPoly.pickle', 'rb') as handle:\n",
    "    allPixelNDVIPoly3 = pickle.load(handle)\n",
    "\n",
    "with open('./pickles/allPixelNDVIPoly4.pickle', 'rb') as handle:\n",
    "    allPixelNDVIPoly4 = pickle.load(handle)\n",
    "\n",
    "with open('./pickles/allPixelNDVIPoly6.pickle', 'rb') as handle:\n",
    "    allPixelNDVIPoly6 = pickle.load(handle)"
   ]
  },
  {
   "attachments": {},
   "cell_type": "markdown",
   "metadata": {},
   "source": [
    "# Caricamento della resa "
   ]
  },
  {
   "cell_type": "code",
   "execution_count": 3,
   "metadata": {},
   "outputs": [],
   "source": [
    "with open('./pickles/newResa3.pickle', 'rb') as handle:\n",
    "    newResa3 = pickle.load(handle)\n",
    "\n",
    "with open('./pickles/newResa4.pickle', 'rb') as handle:\n",
    "    newResa4 = pickle.load(handle)\n",
    "\n",
    "with open('./pickles/newResa6.pickle', 'rb') as handle:\n",
    "    newResa6 = pickle.load(handle)"
   ]
  },
  {
   "attachments": {},
   "cell_type": "markdown",
   "metadata": {},
   "source": [
    "# Pulizia dei dati"
   ]
  },
  {
   "cell_type": "code",
   "execution_count": 4,
   "metadata": {},
   "outputs": [
    {
     "name": "stdout",
     "output_type": "stream",
     "text": [
      "1065\n",
      "1700\n"
     ]
    }
   ],
   "source": [
    "allPixelNDVIPoly3 = allPixelNDVIPoly3[(newResa3<=11000) & (newResa3 >= 4000),:]\n",
    "newResa3 = newResa3[(newResa3<=11000) & (newResa3 >= 4000)]\n",
    "\n",
    "allPixelNDVIPoly4 = allPixelNDVIPoly4[(newResa4<=11000) & (newResa4 >= 4000),:]\n",
    "newResa4 = newResa4[(newResa4<=11000) & (newResa4 >= 4000)]\n",
    "print(len(newResa4))\n",
    "\n",
    "allPixelNDVIPoly6 = allPixelNDVIPoly6[(newResa6<=11000) & (newResa6 >= 4000),:]\n",
    "newResa6 = newResa6[(newResa6<=11000) & (newResa6 >= 4000)]\n",
    "print(len(newResa6))"
   ]
  },
  {
   "attachments": {},
   "cell_type": "markdown",
   "metadata": {},
   "source": [
    "# Eseguo l'operazione di clustering"
   ]
  },
  {
   "cell_type": "code",
   "execution_count": 5,
   "metadata": {},
   "outputs": [],
   "source": [
    "# Global\n",
    "#num_cluster = 2\n",
    "\n",
    "# k-means per tutti le combinazioni di intervalli temporali \n",
    "for num_cluster in range(2,7):\n",
    "    kmeans_total_3 = np.ndarray([int(155/5),int(155/5)], dtype='object')\n",
    "    newSeries_total_3 = np.ndarray([int(155/5),int(155/5)], dtype='object')\n",
    "    rese_total_3 = np.ndarray([int(155/5),int(155/5),num_cluster], dtype='object')\n",
    "    kluster_model_3 = np.ndarray([int(155/5),int(155/5),num_cluster], dtype='object')\n",
    "    centroids_3 = np.ndarray([int(155/5),int(155/5),num_cluster], dtype='object')\n",
    "\n",
    "    kmeans_total_4 = np.ndarray([int(155/5),int(155/5)], dtype='object')\n",
    "    newSeries_total_4 = np.ndarray([int(155/5),int(155/5)], dtype='object')\n",
    "    rese_total_4 = np.ndarray([int(155/5),int(155/5),num_cluster], dtype='object')\n",
    "    kluster_model_4 = np.ndarray([int(155/5),int(155/5),num_cluster], dtype='object')\n",
    "    centroids_4 = np.ndarray([int(155/5),int(155/5),num_cluster], dtype='object')\n",
    "\n",
    "    kmeans_total_6 = np.ndarray([int(155/5),int(155/5)], dtype='object')\n",
    "    newSeries_total_6 = np.ndarray([int(155/5),int(155/5)], dtype='object')\n",
    "    rese_total_6 = np.ndarray([int(155/5),int(155/5),num_cluster], dtype='object')\n",
    "    kluster_model_6 = np.ndarray([int(155/5),int(155/5),num_cluster], dtype='object')\n",
    "    centroids_6 = np.ndarray([int(155/5),int(155/5),num_cluster], dtype='object')\n",
    "\n",
    "    for a in range(0,155,5):\n",
    "        for b,index in zip(range(a+5,155,5),range(0,int((155-a-5)/5))):\n",
    "            new_series_3 = allPixelNDVIPoly3[:,a:b]\n",
    "            new_series_4 = allPixelNDVIPoly4[:,a:b]\n",
    "            new_series_6 = allPixelNDVIPoly6[:,a:b]\n",
    "\n",
    "            km_3 = TimeSeriesKMeans(n_clusters=num_cluster, metric=\"euclidean\", max_iter=25,random_state=0)\n",
    "            km_4 = TimeSeriesKMeans(n_clusters=num_cluster, metric=\"euclidean\", max_iter=25,random_state=0)\n",
    "            km_6 = TimeSeriesKMeans(n_clusters=num_cluster, metric=\"euclidean\", max_iter=25,random_state=0)\n",
    "\n",
    "            kluster_model_3[int(a/5),index] = km_3\n",
    "            kluster_model_4[int(a/5),index] = km_4\n",
    "            kluster_model_6[int(a/5),index] = km_6\n",
    "\n",
    "            if(new_series_3.shape[1] != 0):\n",
    "                y_pred_3 = km_3.fit_predict(new_series_3)\n",
    "                kmeans_total_3[int(a/5),index] = y_pred_3\n",
    "                newSeries_total_3[int(a/5),index] = new_series_3\n",
    "                for p in range(0,num_cluster):\n",
    "                    rese_total_3[int(a/5),index,p] = newResa3[y_pred_3 == p]\n",
    "                    centroids_3[int(a/5),index,p] = km_3.cluster_centers_[p].ravel()\n",
    "\n",
    "            if(new_series_4.shape[1] != 0):\n",
    "                y_pred_4 = km_4.fit_predict(new_series_4)\n",
    "                kmeans_total_4[int(a/5),index] = y_pred_4\n",
    "                newSeries_total_4[int(a/5),index] = new_series_4\n",
    "                for p in range(0,num_cluster):\n",
    "                    rese_total_4[int(a/5),index,p] = newResa4[y_pred_4 == p]\n",
    "                    centroids_4[int(a/5),index,p] = km_4.cluster_centers_[p].ravel()\n",
    "    \n",
    "            if(new_series_6.shape[1] != 0):\n",
    "                y_pred_6 = km_6.fit_predict(new_series_6)\n",
    "                kmeans_total_6[int(a/5),index] = y_pred_6\n",
    "                newSeries_total_6[int(a/5),index] = new_series_6\n",
    "                for p in range(0,num_cluster):\n",
    "                    rese_total_6[int(a/5),index,p] = newResa6[y_pred_6 == p]\n",
    "                    centroids_6[int(a/5),index,p] = km_6.cluster_centers_[p].ravel()\n",
    "\n",
    "    with open('./pickles/kmeans_total_3_c'+str(num_cluster)+'.pickle', 'wb') as handle:\n",
    "        pickle.dump(kmeans_total_3, handle, protocol=pickle.HIGHEST_PROTOCOL)\n",
    "    with open('./pickles/rese_total_3_c'+str(num_cluster)+'.pickle', 'wb') as handle:\n",
    "        pickle.dump(rese_total_3, handle, protocol=pickle.HIGHEST_PROTOCOL)\n",
    "    with open('./pickles/kluster_model_3_c'+str(num_cluster)+'.pickle', 'wb') as handle:\n",
    "        pickle.dump(kluster_model_3, handle, protocol=pickle.HIGHEST_PROTOCOL)\n",
    "    with open('./pickles/kluster_centroids_3_c'+str(num_cluster)+'.pickle', 'wb') as handle:\n",
    "        pickle.dump(centroids_3, handle, protocol=pickle.HIGHEST_PROTOCOL)\n",
    "    \n",
    "    with open('./pickles/kmeans_total_4_c'+str(num_cluster)+'.pickle', 'wb') as handle:\n",
    "        pickle.dump(kmeans_total_4, handle, protocol=pickle.HIGHEST_PROTOCOL)\n",
    "    with open('./pickles/rese_total_4_c'+str(num_cluster)+'.pickle', 'wb') as handle:\n",
    "        pickle.dump(rese_total_4, handle, protocol=pickle.HIGHEST_PROTOCOL)\n",
    "    with open('./pickles/kluster_model_4_c'+str(num_cluster)+'.pickle', 'wb') as handle:\n",
    "        pickle.dump(kluster_model_4, handle, protocol=pickle.HIGHEST_PROTOCOL)\n",
    "    with open('./pickles/kluster_centroids_4_c'+str(num_cluster)+'.pickle', 'wb') as handle:\n",
    "        pickle.dump(centroids_4, handle, protocol=pickle.HIGHEST_PROTOCOL)\n",
    "\n",
    "    with open('./pickles/kmeans_total_6_c'+str(num_cluster)+'.pickle', 'wb') as handle:\n",
    "        pickle.dump(kmeans_total_6, handle, protocol=pickle.HIGHEST_PROTOCOL)\n",
    "    with open('./pickles/rese_total_6_c'+str(num_cluster)+'.pickle', 'wb') as handle:\n",
    "        pickle.dump(rese_total_6, handle, protocol=pickle.HIGHEST_PROTOCOL)\n",
    "    with open('./pickles/kluster_model_6_c'+str(num_cluster)+'.pickle', 'wb') as handle:\n",
    "        pickle.dump(kluster_model_6, handle, protocol=pickle.HIGHEST_PROTOCOL)\n",
    "    with open('./pickles/kluster_centroids_6_c'+str(num_cluster)+'.pickle', 'wb') as handle:\n",
    "        pickle.dump(centroids_6, handle, protocol=pickle.HIGHEST_PROTOCOL)"
   ]
  }
 ],
 "metadata": {
  "kernelspec": {
   "display_name": "bigdata",
   "language": "python",
   "name": "python3"
  },
  "language_info": {
   "codemirror_mode": {
    "name": "ipython",
    "version": 3
   },
   "file_extension": ".py",
   "mimetype": "text/x-python",
   "name": "python",
   "nbconvert_exporter": "python",
   "pygments_lexer": "ipython3",
   "version": "3.8.16"
  },
  "orig_nbformat": 4
 },
 "nbformat": 4,
 "nbformat_minor": 2
}
